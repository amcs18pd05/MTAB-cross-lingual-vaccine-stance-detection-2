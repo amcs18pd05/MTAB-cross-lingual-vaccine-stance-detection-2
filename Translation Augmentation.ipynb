{
 "cells": [
  {
   "cell_type": "code",
   "execution_count": 1,
   "id": "66cd8cdc",
   "metadata": {},
   "outputs": [],
   "source": [
    "import pandas as pd\n",
    "import pickle\n",
    "import re\n",
    "from easynmt import EasyNMT\n",
    "from pandarallel import pandarallel\n",
    "import tensorflow as tf\n",
    "import torch\n",
    "model = EasyNMT('opus-mt')"
   ]
  },
  {
   "cell_type": "code",
   "execution_count": 2,
   "id": "ef90224b",
   "metadata": {},
   "outputs": [
    {
     "name": "stdout",
     "output_type": "stream",
     "text": [
      "Metal device set to: Apple M1\n",
      "Found GPU at: /device:GPU:0\n"
     ]
    },
    {
     "name": "stderr",
     "output_type": "stream",
     "text": [
      "2023-04-11 19:57:45.794217: I tensorflow/core/common_runtime/pluggable_device/pluggable_device_factory.cc:306] Could not identify NUMA node of platform GPU ID 0, defaulting to 0. Your kernel may not have been built with NUMA support.\n",
      "2023-04-11 19:57:45.794790: I tensorflow/core/common_runtime/pluggable_device/pluggable_device_factory.cc:272] Created TensorFlow device (/device:GPU:0 with 0 MB memory) -> physical PluggableDevice (device: 0, name: METAL, pci bus id: <undefined>)\n"
     ]
    }
   ],
   "source": [
    "device_name = tf.test.gpu_device_name()\n",
    "if device_name == '/device:GPU:0':\n",
    "    print(f'Found GPU at: {device_name}')\n",
    "    \n",
    "if torch.has_mps:    \n",
    "    device = torch.device(\"mps\")\n",
    "else:\n",
    "    print('using the CPU')\n",
    "    device = torch.device(\"cpu\")"
   ]
  },
  {
   "cell_type": "code",
   "execution_count": 3,
   "id": "46bccde7",
   "metadata": {},
   "outputs": [],
   "source": [
    "english_data = pd.read_csv('processed_datasets/combined_english_tweets.csv')\n",
    "english_data['processed_tweet'] = english_data['processed_tweet'].apply(lambda x: re.sub(r'[\\.]', '', str(x))) \\\n",
    "                                    .apply(lambda x: re.sub(r'\\s\\s',' ', str(x)))\n",
    "english_sentences = english_data['processed_tweet'].tolist()"
   ]
  },
  {
   "cell_type": "code",
   "execution_count": 28,
   "id": "12290f70",
   "metadata": {},
   "outputs": [],
   "source": [
    "french_translations = model.translate(english_sentences, source_lang = 'en', target_lang = 'fr')"
   ]
  },
  {
   "cell_type": "code",
   "execution_count": 31,
   "id": "4a2e6094",
   "metadata": {},
   "outputs": [],
   "source": [
    "pickle.dump(french_translations, open('processed_datasets/french_translations.pkl', 'wb'))"
   ]
  },
  {
   "cell_type": "code",
   "execution_count": 33,
   "id": "103adc49",
   "metadata": {},
   "outputs": [],
   "source": [
    "german_translations = model.translate(english_sentences, source_lang = 'en', target_lang = 'de')\n",
    "pickle.dump(german_translations, open('processed_datasets/german_translations.pkl', 'wb'))"
   ]
  },
  {
   "cell_type": "code",
   "execution_count": 34,
   "id": "a966a6a8",
   "metadata": {},
   "outputs": [
    {
     "data": {
      "application/vnd.jupyter.widget-view+json": {
       "model_id": "d880683cf7a748dca1597ce850e30cf8",
       "version_major": 2,
       "version_minor": 0
      },
      "text/plain": [
       "Downloading:   0%|          | 0.00/771k [00:00<?, ?B/s]"
      ]
     },
     "metadata": {},
     "output_type": "display_data"
    },
    {
     "data": {
      "application/vnd.jupyter.widget-view+json": {
       "model_id": "0f031d2434b3446292fedc872cfafeaf",
       "version_major": 2,
       "version_minor": 0
      },
      "text/plain": [
       "Downloading:   0%|          | 0.00/795k [00:00<?, ?B/s]"
      ]
     },
     "metadata": {},
     "output_type": "display_data"
    },
    {
     "data": {
      "application/vnd.jupyter.widget-view+json": {
       "model_id": "4a836eb825044b82a0596403f8d7eeec",
       "version_major": 2,
       "version_minor": 0
      },
      "text/plain": [
       "Downloading:   0%|          | 0.00/2.24M [00:00<?, ?B/s]"
      ]
     },
     "metadata": {},
     "output_type": "display_data"
    },
    {
     "data": {
      "application/vnd.jupyter.widget-view+json": {
       "model_id": "9ac60c75093544c1855e21af5732c7d4",
       "version_major": 2,
       "version_minor": 0
      },
      "text/plain": [
       "Downloading:   0%|          | 0.00/42.0 [00:00<?, ?B/s]"
      ]
     },
     "metadata": {},
     "output_type": "display_data"
    },
    {
     "data": {
      "application/vnd.jupyter.widget-view+json": {
       "model_id": "10d0d8fc4e5445f59161019104b64e75",
       "version_major": 2,
       "version_minor": 0
      },
      "text/plain": [
       "Downloading:   0%|          | 0.00/1.35k [00:00<?, ?B/s]"
      ]
     },
     "metadata": {},
     "output_type": "display_data"
    },
    {
     "data": {
      "application/vnd.jupyter.widget-view+json": {
       "model_id": "21cbebf13ac642a48cc78cdfd101862d",
       "version_major": 2,
       "version_minor": 0
      },
      "text/plain": [
       "Downloading:   0%|          | 0.00/327M [00:00<?, ?B/s]"
      ]
     },
     "metadata": {},
     "output_type": "display_data"
    }
   ],
   "source": [
    "italian_translations = model.translate(english_sentences, source_lang = 'en', target_lang = 'it')\n",
    "pickle.dump(italian_translations, open('processed_datasets/italian_translations.pkl', 'wb'))"
   ]
  },
  {
   "cell_type": "code",
   "execution_count": 18,
   "id": "344e7783",
   "metadata": {},
   "outputs": [],
   "source": [
    "french_translations = pickle.load(open('processed_datasets/french_translations.pkl', 'rb'))\n",
    "german_translations = pickle.load(open('processed_datasets/german_translations.pkl', 'rb'))\n",
    "italian_translations = pickle.load(open('processed_datasets/italian_translations.pkl', 'rb'))\n",
    "\n",
    "english_labels = french_labels = german_labels = italian_labels = english_data['stance'].tolist()\n",
    "\n",
    "train_labels = english_labels + french_labels + german_labels + italian_labels \n",
    "train_text = english_sentences + french_translations + german_translations + italian_translations\n",
    "\n",
    "backtranslated_train_data = pd.DataFrame({'processed_tweet': train_text, 'stance': train_labels})\n",
    "backtranslated_train_data.to_csv('processed_datasets/backtranslated_train_data.csv')"
   ]
  },
  {
   "cell_type": "code",
   "execution_count": 6,
   "id": "08c83643",
   "metadata": {},
   "outputs": [
    {
     "name": "stdout",
     "output_type": "stream",
     "text": [
      "C'est une phrase que nous voulons traduire en allemand\n",
      "['Vous pouvez définir une liste avec des phrases.', 'Toutes les phrases sont traduites dans votre langue cible.', 'Notez que vous pouvez également mélanger les langues des phrases.']\n"
     ]
    }
   ],
   "source": [
    "print(model.translate('This is a sentence we want to translate to German', target_lang='fr'))\n",
    "\n",
    "#Translate several sentences to German\n",
    "sentences = ['You can define a list with sentences.',\n",
    "             'All sentences are translated to your target language.',\n",
    "             'Note, you could also mix the languages of the sentences.']\n",
    "print(model.translate(sentences, target_lang='fr'))"
   ]
  },
  {
   "cell_type": "code",
   "execution_count": 9,
   "id": "6da5f692",
   "metadata": {},
   "outputs": [],
   "source": [
    "langs = english_data['processed_tweet'].apply(lambda x: model.language_detection(str(x)))"
   ]
  },
  {
   "cell_type": "code",
   "execution_count": 10,
   "id": "8896c2a5",
   "metadata": {},
   "outputs": [
    {
     "name": "stdout",
     "output_type": "stream",
     "text": [
      "0        en\n",
      "1        en\n",
      "2        en\n",
      "3        en\n",
      "4        en\n",
      "       ... \n",
      "4488     en\n",
      "4489     en\n",
      "4490    nds\n",
      "4491     en\n",
      "4492     en\n",
      "Name: processed_tweet, Length: 4493, dtype: object\n"
     ]
    }
   ],
   "source": [
    "print(langs)"
   ]
  },
  {
   "cell_type": "code",
   "execution_count": 20,
   "id": "a9dccc76",
   "metadata": {},
   "outputs": [
    {
     "name": "stdout",
     "output_type": "stream",
     "text": [
      "de 192\n",
      "hu 395\n",
      "hu 488\n",
      "de 779\n",
      "hu 1170\n",
      "tl 1249\n",
      "de 1916\n",
      "de 1969\n",
      "tl 2047\n",
      "tr 2055\n",
      "tr 2061\n",
      "ht 2067\n",
      "ht 2074\n",
      "de 2110\n",
      "it 3115\n",
      "es 3118\n",
      "es 3486\n",
      "it 3717\n",
      "nds 4490\n"
     ]
    },
    {
     "name": "stderr",
     "output_type": "stream",
     "text": [
      "/var/folders/ch/czk31wg97tvdq3v6ky8dnt5r0000gn/T/ipykernel_7267/2961108887.py:1: FutureWarning: iteritems is deprecated and will be removed in a future version. Use .items instead.\n",
      "  for ix, lang in langs.iteritems():\n"
     ]
    }
   ],
   "source": [
    "for ix, lang in langs.iteritems():\n",
    "    if lang!='en':\n",
    "        print(lang, ix)"
   ]
  },
  {
   "cell_type": "code",
   "execution_count": 26,
   "id": "1eacec3d",
   "metadata": {},
   "outputs": [
    {
     "data": {
      "text/plain": [
       "Unnamed: 0                                                       395\n",
       "id                                               1368160808853667842\n",
       "tweet              Vaccine Ready!\\n#AstraZeneca \\nVinaka @MOHFiji...\n",
       "stance                                                      positive\n",
       "processed_tweet              Vaccine Ready! AstraZeneca Vinaka &amp;\n",
       "Name: 395, dtype: object"
      ]
     },
     "execution_count": 26,
     "metadata": {},
     "output_type": "execute_result"
    }
   ],
   "source": [
    "english_data.iloc[395]"
   ]
  },
  {
   "cell_type": "code",
   "execution_count": 27,
   "id": "3ac63793",
   "metadata": {},
   "outputs": [
    {
     "data": {
      "text/plain": [
       "'Prêt pour le vaccin! AstraZeneca Vinaka &amp;'"
      ]
     },
     "execution_count": 27,
     "metadata": {},
     "output_type": "execute_result"
    }
   ],
   "source": [
    "model.translate(english_data.iloc[395]['processed_tweet'], source_lang = 'en',target_lang='fr')"
   ]
  },
  {
   "cell_type": "code",
   "execution_count": 23,
   "id": "adcd700b",
   "metadata": {},
   "outputs": [
    {
     "data": {
      "text/plain": [
       "'de'"
      ]
     },
     "execution_count": 23,
     "metadata": {},
     "output_type": "execute_result"
    }
   ],
   "source": [
    "model.language_detection(english_data.iloc[192]['processed_tweet'])"
   ]
  },
  {
   "cell_type": "code",
   "execution_count": null,
   "id": "dd6b09b9",
   "metadata": {},
   "outputs": [],
   "source": []
  }
 ],
 "metadata": {
  "kernelspec": {
   "display_name": "Python 3 (ipykernel)",
   "language": "python",
   "name": "python3"
  },
  "language_info": {
   "codemirror_mode": {
    "name": "ipython",
    "version": 3
   },
   "file_extension": ".py",
   "mimetype": "text/x-python",
   "name": "python",
   "nbconvert_exporter": "python",
   "pygments_lexer": "ipython3",
   "version": "3.9.16"
  }
 },
 "nbformat": 4,
 "nbformat_minor": 5
}
