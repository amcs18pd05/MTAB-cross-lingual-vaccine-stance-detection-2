{
 "cells": [
  {
   "cell_type": "code",
   "execution_count": 2,
   "id": "54d2ffa6",
   "metadata": {
    "scrolled": true
   },
   "outputs": [],
   "source": [
    "import pandas as pd\n",
    "import numpy as np\n",
    "# from twarc import Twarc\n",
    "\n",
    "# consumer_key=\"Fz0OhAkFnvzvsIkENuzv1QCAb\"\n",
    "# consumer_secret=\"UxrD9g7fdV9JXvxCme2FanrwOJZMVYttJVBUaIj7LtpM56i4Bz\"\n",
    "# access_token=\"523108577-vtzFk3xHEPxzkgQWlHxSR9xNP96ovv7bgZRNBcCv\"\n",
    "# access_token_secret=\"Lh0xZ2kgMp2wWKq52ZMEAl0h5ZskWRNqVCY9bkpR8lH9G\"\n",
    "\n",
    "# t = Twarc(consumer_key, consumer_secret, access_token, access_token_secret)"
   ]
  },
  {
   "cell_type": "code",
   "execution_count": 2,
   "id": "cb588903",
   "metadata": {},
   "outputs": [],
   "source": [
    "def fetch_tweet(ids_file):\n",
    "    for tweet in t.hydrate(open(ids_file)):\n",
    "        #print(tweet.keys())\n",
    "        print(tweet['id'])\n",
    "        print(tweet['full_text'])"
   ]
  },
  {
   "cell_type": "markdown",
   "id": "b7e835a4",
   "metadata": {},
   "source": [
    "## 1. CoVaxNet"
   ]
  },
  {
   "cell_type": "markdown",
   "id": "2aebc950",
   "metadata": {},
   "source": [
    "**Paper**: https://arxiv.org/abs/2207.01505 (2022)\n",
    "\n",
    "**Github**: https://github.com/jiangbohan/CoVaxNet"
   ]
  },
  {
   "cell_type": "code",
   "execution_count": 3,
   "id": "68f1c7d6",
   "metadata": {},
   "outputs": [],
   "source": [
    "anti_vax = pd.read_csv('./datasets/CoVaxNet/Antivax_tweets_id.csv')\n",
    "pro_vax_1 = pd.read_csv('./datasets/CoVaxNet/provax_tweets_id_1.csv')\n",
    "pro_vax_2 = pd.read_csv('./datasets/CoVaxNet/provax_tweets_id_1.csv')"
   ]
  },
  {
   "cell_type": "code",
   "execution_count": 14,
   "id": "ff720daa",
   "metadata": {},
   "outputs": [
    {
     "name": "stdout",
     "output_type": "stream",
     "text": [
      "<class 'pandas.core.frame.DataFrame'>\n",
      "RangeIndex: 335229 entries, 0 to 335228\n",
      "Data columns (total 2 columns):\n",
      " #   Column        Non-Null Count   Dtype \n",
      "---  ------        --------------   ----- \n",
      " 0   id            335229 non-null  int64 \n",
      " 1   stance_class  335229 non-null  object\n",
      "dtypes: int64(1), object(1)\n",
      "memory usage: 5.1+ MB\n"
     ]
    }
   ],
   "source": [
    "#335k tweets\n",
    "anti_vax.info()"
   ]
  },
  {
   "cell_type": "code",
   "execution_count": 15,
   "id": "dfa454b9",
   "metadata": {},
   "outputs": [
    {
     "name": "stdout",
     "output_type": "stream",
     "text": [
      "<class 'pandas.core.frame.DataFrame'>\n",
      "RangeIndex: 700000 entries, 0 to 699999\n",
      "Data columns (total 2 columns):\n",
      " #   Column        Non-Null Count   Dtype \n",
      "---  ------        --------------   ----- \n",
      " 0   id            700000 non-null  int64 \n",
      " 1   stance_class  700000 non-null  object\n",
      "dtypes: int64(1), object(1)\n",
      "memory usage: 10.7+ MB\n"
     ]
    }
   ],
   "source": [
    "#700k tweets\n",
    "pro_vax_1.info()"
   ]
  },
  {
   "cell_type": "code",
   "execution_count": 4,
   "id": "cd4a0836",
   "metadata": {},
   "outputs": [
    {
     "data": {
      "text/html": [
       "<div>\n",
       "<style scoped>\n",
       "    .dataframe tbody tr th:only-of-type {\n",
       "        vertical-align: middle;\n",
       "    }\n",
       "\n",
       "    .dataframe tbody tr th {\n",
       "        vertical-align: top;\n",
       "    }\n",
       "\n",
       "    .dataframe thead th {\n",
       "        text-align: right;\n",
       "    }\n",
       "</style>\n",
       "<table border=\"1\" class=\"dataframe\">\n",
       "  <thead>\n",
       "    <tr style=\"text-align: right;\">\n",
       "      <th></th>\n",
       "      <th>id</th>\n",
       "      <th>stance_class</th>\n",
       "    </tr>\n",
       "  </thead>\n",
       "  <tbody>\n",
       "    <tr>\n",
       "      <th>0</th>\n",
       "      <td>1472679534403150080</td>\n",
       "      <td>Against</td>\n",
       "    </tr>\n",
       "    <tr>\n",
       "      <th>1</th>\n",
       "      <td>1466697454859040000</td>\n",
       "      <td>Against</td>\n",
       "    </tr>\n",
       "    <tr>\n",
       "      <th>2</th>\n",
       "      <td>1464649642050729984</td>\n",
       "      <td>Against</td>\n",
       "    </tr>\n",
       "    <tr>\n",
       "      <th>3</th>\n",
       "      <td>1451488486624740096</td>\n",
       "      <td>Against</td>\n",
       "    </tr>\n",
       "    <tr>\n",
       "      <th>4</th>\n",
       "      <td>1472679534403149824</td>\n",
       "      <td>Against</td>\n",
       "    </tr>\n",
       "  </tbody>\n",
       "</table>\n",
       "</div>"
      ],
      "text/plain": [
       "                    id stance_class\n",
       "0  1472679534403150080      Against\n",
       "1  1466697454859040000      Against\n",
       "2  1464649642050729984      Against\n",
       "3  1451488486624740096      Against\n",
       "4  1472679534403149824      Against"
      ]
     },
     "execution_count": 4,
     "metadata": {},
     "output_type": "execute_result"
    }
   ],
   "source": [
    "anti_vax['stance_class'] = 'Against'\n",
    "pro_vax_1['stance_class'] = 'Favor'\n",
    "pro_vax_2['stance_class'] = 'Favor'\n",
    "\n",
    "combined_dataframe = pd.concat([anti_vax, pro_vax_1, pro_vax_2], ignore_index=True)\n",
    "combined_dataframe.head()"
   ]
  },
  {
   "cell_type": "code",
   "execution_count": 18,
   "id": "b5502922",
   "metadata": {},
   "outputs": [
    {
     "name": "stdout",
     "output_type": "stream",
     "text": [
      "<class 'pandas.core.frame.DataFrame'>\n",
      "RangeIndex: 1735229 entries, 0 to 1735228\n",
      "Data columns (total 2 columns):\n",
      " #   Column        Dtype \n",
      "---  ------        ----- \n",
      " 0   id            int64 \n",
      " 1   stance_class  object\n",
      "dtypes: int64(1), object(1)\n",
      "memory usage: 26.5+ MB\n"
     ]
    }
   ],
   "source": [
    "#1.7M tweets\n",
    "combined_dataframe.info()"
   ]
  },
  {
   "cell_type": "code",
   "execution_count": 5,
   "id": "46656d87",
   "metadata": {},
   "outputs": [],
   "source": [
    "combined_dataframe['id'].head(50).to_csv('covaxnet_ids.csv', header=False, index = None)"
   ]
  },
  {
   "cell_type": "code",
   "execution_count": 6,
   "id": "c93285ce",
   "metadata": {},
   "outputs": [
    {
     "name": "stdout",
     "output_type": "stream",
     "text": [
      "1472679421945520128\n",
      "@negin_7084 دوست دارم با هرکسی عاشقش بشم باهمون ازدواج می‌کنم😎\n"
     ]
    }
   ],
   "source": [
    "fetch_tweet('covaxnet_ids.csv')"
   ]
  },
  {
   "cell_type": "markdown",
   "id": "68480d5d",
   "metadata": {},
   "source": [
    "## 2. VAD - Vaccine Attitude Dataset (Feb 7th - Apr 3rd 2021)"
   ]
  },
  {
   "cell_type": "markdown",
   "id": "f1a157ab",
   "metadata": {},
   "source": [
    "**Paper**: https://arxiv.org/pdf/2205.03296.pdf (2022)\n",
    "\n",
    "**Github repo**: https://github.com/somethingx1202/VADet\n",
    "\n",
    "**Classes**: Positive, Negative and Neutral"
   ]
  },
  {
   "cell_type": "code",
   "execution_count": 3,
   "id": "9d86fada",
   "metadata": {},
   "outputs": [
    {
     "name": "stdout",
     "output_type": "stream",
     "text": [
      "<class 'pandas.core.frame.DataFrame'>\n",
      "RangeIndex: 2800 entries, 0 to 2799\n",
      "Data columns (total 5 columns):\n",
      " #   Column             Non-Null Count  Dtype \n",
      "---  ------             --------------  ----- \n",
      " 0   ID                 2800 non-null   int64 \n",
      " 1   stance             2800 non-null   object\n",
      " 2   aspect_span        2800 non-null   object\n",
      " 3   opinion_span       2800 non-null   object\n",
      " 4   aspect_catetegory  2800 non-null   int64 \n",
      "dtypes: int64(2), object(3)\n",
      "memory usage: 109.5+ KB\n"
     ]
    }
   ],
   "source": [
    "vad_data = pd.read_csv('./datasets/VADet/annotated_twids.csv')\n",
    "vad_data.info()"
   ]
  },
  {
   "cell_type": "code",
   "execution_count": 5,
   "id": "e1b1a09e",
   "metadata": {},
   "outputs": [
    {
     "data": {
      "text/html": [
       "<div>\n",
       "<style scoped>\n",
       "    .dataframe tbody tr th:only-of-type {\n",
       "        vertical-align: middle;\n",
       "    }\n",
       "\n",
       "    .dataframe tbody tr th {\n",
       "        vertical-align: top;\n",
       "    }\n",
       "\n",
       "    .dataframe thead th {\n",
       "        text-align: right;\n",
       "    }\n",
       "</style>\n",
       "<table border=\"1\" class=\"dataframe\">\n",
       "  <thead>\n",
       "    <tr style=\"text-align: right;\">\n",
       "      <th></th>\n",
       "      <th>ID</th>\n",
       "      <th>stance</th>\n",
       "      <th>aspect_span</th>\n",
       "      <th>opinion_span</th>\n",
       "      <th>aspect_catetegory</th>\n",
       "    </tr>\n",
       "  </thead>\n",
       "  <tbody>\n",
       "    <tr>\n",
       "      <th>0</th>\n",
       "      <td>1368404195661910020</td>\n",
       "      <td>positive</td>\n",
       "      <td>31:62</td>\n",
       "      <td>22:151</td>\n",
       "      <td>4</td>\n",
       "    </tr>\n",
       "    <tr>\n",
       "      <th>1</th>\n",
       "      <td>1368362517001498625</td>\n",
       "      <td>negative</td>\n",
       "      <td>0:164</td>\n",
       "      <td>0:216</td>\n",
       "      <td>3</td>\n",
       "    </tr>\n",
       "    <tr>\n",
       "      <th>2</th>\n",
       "      <td>1373543048223858693</td>\n",
       "      <td>negative</td>\n",
       "      <td>50:151</td>\n",
       "      <td>17:171</td>\n",
       "      <td>3</td>\n",
       "    </tr>\n",
       "    <tr>\n",
       "      <th>3</th>\n",
       "      <td>1367476618457976835</td>\n",
       "      <td>positive</td>\n",
       "      <td>10:46</td>\n",
       "      <td>0:58</td>\n",
       "      <td>0</td>\n",
       "    </tr>\n",
       "    <tr>\n",
       "      <th>4</th>\n",
       "      <td>1377742588984320012</td>\n",
       "      <td>positive</td>\n",
       "      <td>0:88</td>\n",
       "      <td>0:88</td>\n",
       "      <td>20</td>\n",
       "    </tr>\n",
       "  </tbody>\n",
       "</table>\n",
       "</div>"
      ],
      "text/plain": [
       "                    ID    stance aspect_span opinion_span  aspect_catetegory\n",
       "0  1368404195661910020  positive       31:62       22:151                  4\n",
       "1  1368362517001498625  negative       0:164        0:216                  3\n",
       "2  1373543048223858693  negative      50:151       17:171                  3\n",
       "3  1367476618457976835  positive       10:46         0:58                  0\n",
       "4  1377742588984320012  positive        0:88         0:88                 20"
      ]
     },
     "execution_count": 5,
     "metadata": {},
     "output_type": "execute_result"
    }
   ],
   "source": [
    "vad_data.head()"
   ]
  },
  {
   "cell_type": "code",
   "execution_count": 4,
   "id": "622572a3",
   "metadata": {},
   "outputs": [],
   "source": [
    "vad_data['ID'].to_csv('vad_ids.csv', header=False, index = None)"
   ]
  },
  {
   "cell_type": "code",
   "execution_count": 7,
   "id": "01c3829e",
   "metadata": {},
   "outputs": [
    {
     "name": "stdout",
     "output_type": "stream",
     "text": [
      "1372900215620001795\n",
      "RT @SuleimanShahbal: 1/1Today, I visited CPG Hospital to take the Covid-19 AstraZeneca vaccine to encourage fellow Mombasa residents and ci…\n",
      "1373276419527208966\n",
      "RT @dataisoxygen: @is_salsu @NphcdaNG 1. 2nd March 2021\n",
      "\n",
      "2. The Head of the EMA, Emer Cooke, has personally and publicly confirmed that the…\n",
      "1378029322368217088\n",
      "RT @cH__SajAwaL: #MustFollowCovidSops\n",
      "The first batch of vaccines, brought to Pakistan via a Pakistan Air Force aircraft on February 1, had…\n",
      "1367821804480430082\n",
      "RT @DrEricDing: 2) And indeed, the Oxford-AstraZeneca vaccine seems on par with Pfizer in mass vaccination studies. Not too shabby. https:/…\n",
      "1373641400252702724\n",
      "RT @DrEricDing: 11) But the problem for Brazil is that it doesn’t have the mRNA vaccines. It has the AstraZeneca and SinoVac vaccine. We do…\n",
      "1369289827447881736\n",
      "RT @Amitendu1: #Vaccinepassport While this would facilitate travel, it would be discriminatory.Large parts of the world would remain unvacc…\n",
      "1372099444263415808\n",
      "@TimesNow #forcedvaccine is here folks..... Iys time to take scam vaccine for a #scamdemic2020 #PlandemicHoax covid19 #coronascam\n",
      "1372647570133151746\n",
      "RT @thecableng: .@YIAGA: Nigeria needs COVID-19 vaccine management plan for equitable distribution | TheCable https://t.co/cKEblUa0u8\n",
      "\n",
      "#Ast…\n",
      "1377742588984320012\n",
      "#COVID19 #vaccines from @moderna_tx and @pfizer  may provide immunity to both the mother and baby – antibodies to SARS-CoV-2 are detected in umbilical cord blood and breast milk of vaccinated #pregnant #women https://t.co/C8B7FVNeLa #VaccinesWork https://t.co/mpiMNO2wkh\n",
      "1372758641984479251\n",
      "#EU countries to #restart use of ‘safe and effective’ #AstraZeneca vaccine https://t.co/nQfykjEsAt via @financialtimes\n",
      "1370821625030053888\n",
      "RT @Modmother: @nytimes #Censorship Robert F. Kennedy Jr. debunked? #Eugenics is NOT #Science!\n",
      "Who benefits from vaccination over naturopat…\n",
      "1373543048223858693\n",
      "#BREAKING_News:Two hospital staffers in Denmark have faced blood clots and cerebral haemorrhaging after they were immunized with #AstraZeneca vaccine against #covid_19. One has since passed away. https://t.co/bxfxps5St0\n",
      "1373294128931483650\n",
      "RT @jkwan_md: \"@ThrombosisCan strongly recommends that ppl receive vaccinations for #COVID19, including vaccine made by @AstraZeneca...\n",
      "The…\n",
      "1376581769726717956\n",
      "RT @gulf_news: #UAE-manufactured #Sinopharm vaccine renamed. To be called #HayatVax https://t.co/cXG2TvGm3C\n",
      "1373544129368485889\n",
      "29 hours post vaccination\n",
      "- all symptoms resolving:\n",
      "- shoulder pain less than earlier\n",
      "- less myalgia\n",
      "- no more sore throat\n",
      "\n",
      "Symptoms are normal, vaccine is working. Expected resolution of side effects &lt;72 hours.\n",
      "#AstraZeneca #COVIDvaccine\n",
      "1376913025916108803\n",
      "RT @AlexBerenson: 1/ Okay, a bunch of countries have decided @AstraZeneca’s #Covid vaccine is double-plus ungood because of a tiny ittybitt…\n",
      "1373619256257036290\n",
      "@irshad_rathi's account has been withheld in India in response to a legal demand. Learn more.\n",
      "1372519220379070466\n",
      "RT @PeterHotez: 2/3 when it comes to vaccines, public perception counts a lot, and the antivaccine antiscience movement has been enabled to…\n",
      "1372599281484492810\n",
      "#CovidVaxxination #AstraZeneca: :\"Benefits still outweigh the Risks despite possible link to rare #BloodClots with low Blood Platelets\" declare #EMA today18/03/2021 18:00\n",
      " https://t.co/kfZrMzjxCN ...\n",
      "1370304848558747654\n",
      "RT @JaimedeJuan: 22 cases of thromboembolic events had been reported among the 3 million people vaccinated with #AstraZeneca in Europe in 2…\n",
      "1373619085104324608\n",
      "@miss_anthrop75 52 pages of adverse reactions to AstraZeneca vaccine from Jan 4th to Feb 14th. \n",
      "114,625 total reactions and 205 deaths. \n",
      "54 pages of adverse reactions to Pfizer vaccine from Dec 9th to Feb 14th. \n",
      "77,207 total reactions and 197 deaths.\n",
      "1375947242960474116\n",
      "RT @HebTracker: 15 Moderna vaccine appointments available at Corsicana H-E-B\n",
      "Address: 201 S. 15TH STREET, CORSICANA, TX 75110-5138 \n",
      "\n",
      "Regist…\n",
      "1367476618457976835\n",
      "#BREAKING Germany approves AstraZeneca vaccine for over-65s: ministry https://t.co/80BWTl1w1x\n",
      "1368064687045107712\n",
      "RT @BigBadDenis: #EXCLUSIVE : Oxford study indicates AstraZeneca effective against the Brazilian variant.\n",
      "\n",
      "The source did not provide the e…\n",
      "1368248052746760196\n",
      "RT @WHOAFRO: #Mali🇲🇱🇲🇱🇲🇱 becomes the first west African country in central Sahel to receive #COVAX-funded vaccines. Yesterday 396,000 #Astr…\n",
      "1378286866387058688\n",
      "RT @SputnikInt: #SputnikV developer says getting COVID possible after jab, but rules out severe outcomes\n",
      "\n",
      "@sputnikvaccine https://t.co/lBHS…\n",
      "1373597528613130240\n",
      "RT @NatGeo: 37 reports of blood clots—out of more than 17 million people vaccinated in the EU and the U.K—may have cast unfair suspicions o…\n",
      "1372673297876324353\n",
      "#Uncategorized White House says U.S. plans to send 1.5 million doses of AstraZeneca vaccine to Canada https://t.co/BXs9krTnux\n",
      "1372689286198259714\n",
      "RT @LizanneFoster: 563,244 elementary and secondary students in BC. \n",
      "If they're unmasked and unvaccinated, that's 563,244 vectors for varia…\n",
      "1372141014555754498\n",
      "RT @TeezFlowerz: 2947 Covid vaccine DEATHS in the first week!!\n",
      "@Wolf14064576 @EagleMayan @lorrain00414525 \n",
      "@simsy1977 @OldNormality @AstroI…\n",
      "1368027091942445056\n",
      "RT @GovCanHealth: (3/4) Health Canada has determined that the AstraZeneca vaccine meets stringent safety, efficacy and quality requirements…\n",
      "1368319541592399877\n",
      "49-year-old nurse dies after receiving the AstraZeneca vaccine https://t.co/63nu4eOVoJ https://t.co/merKRPqgE8\n",
      "1375936452459175937\n",
      "14 Moderna vaccine appointments available at Falfurrias H-E-B\n",
      "Address: 700 S SAINT MARYS ST, FALFURRIAS, TX 78355-4365 \n",
      "23 Moderna vaccine appointments available at Corsicana H-E-B\n",
      "Address: 201 S. 15TH STREET, CORSICANA, TX 75110-5138 \n",
      "\n",
      "Register at: https://t.co/KOiRgLNtqu\n",
      "1372604541640794118\n",
      "RT @MurtuzaDiwan: #CovidVaccine Updates: Europe’s Drug Regulator Says @AstraZeneca Vaccine Is Safe! @IPACCanada\n",
      "1368362517001498625\n",
      "RT @RobertKennedyJr: #AstraZeneca’s #COVID #vaccine faces new controversy after a trial participant in India alleged vaccine caused him ser…\n",
      "1368404195661910020\n",
      "RT @Upma_Pongal: @RoopsSaxena Which vaccine? \n",
      "If it is AstraZeneca- the efficacy is 62%. Which means in real life it will be close to 50-55…\n",
      "1373707325136048138\n",
      "RT @meekeebee: @simondolan 460 according to HMG https://t.co/ufYzANLwU8\n",
      "\n",
      "\"The MHRA has received 212 UK reports of suspected ADRs to the Pfi…\n",
      "1377056082737033217\n",
      "RT @stavvybaby: 2nd Moderna dose update: I felt pretty bad for 36 hrs after the shot but I’m good now. \n",
      "Important note: my friend gave me s…\n"
     ]
    }
   ],
   "source": [
    "fetch_tweet('vad_ids.csv')"
   ]
  },
  {
   "cell_type": "markdown",
   "id": "d776a628",
   "metadata": {},
   "source": [
    "## 3. Vaccine stance dataset (2021)"
   ]
  },
  {
   "cell_type": "markdown",
   "id": "9eae429b",
   "metadata": {},
   "source": [
    "**Paper**: https://link.springer.com/chapter/10.1007/978-3-030-98012-2_24\n",
    "\n",
    "**Github repo**: https://github.com/a-almadan/covid-19-vaccination\n",
    "\n",
    "**Class labels**: (1) - favour, (2) - against, (3) - stance not clear or neutral"
   ]
  },
  {
   "cell_type": "code",
   "execution_count": 3,
   "id": "30dd97c0",
   "metadata": {},
   "outputs": [
    {
     "name": "stdout",
     "output_type": "stream",
     "text": [
      "<class 'pandas.core.frame.DataFrame'>\n",
      "RangeIndex: 651 entries, 0 to 650\n",
      "Data columns (total 3 columns):\n",
      " #   Column      Non-Null Count  Dtype\n",
      "---  ------      --------------  -----\n",
      " 0   Unnamed: 0  651 non-null    int64\n",
      " 1   ID          651 non-null    int64\n",
      " 2   Code        651 non-null    int64\n",
      "dtypes: int64(3)\n",
      "memory usage: 15.4 KB\n"
     ]
    }
   ],
   "source": [
    "vac_stance = pd.read_csv('./datasets/VaccineStance/Data.csv')\n",
    "#vac_stance.drop(['Unnamed: 0'], axis = 1, inplace = True)\n",
    "vac_stance.info()"
   ]
  },
  {
   "cell_type": "code",
   "execution_count": 13,
   "id": "41871a36",
   "metadata": {},
   "outputs": [
    {
     "data": {
      "text/html": [
       "<div>\n",
       "<style scoped>\n",
       "    .dataframe tbody tr th:only-of-type {\n",
       "        vertical-align: middle;\n",
       "    }\n",
       "\n",
       "    .dataframe tbody tr th {\n",
       "        vertical-align: top;\n",
       "    }\n",
       "\n",
       "    .dataframe thead th {\n",
       "        text-align: right;\n",
       "    }\n",
       "</style>\n",
       "<table border=\"1\" class=\"dataframe\">\n",
       "  <thead>\n",
       "    <tr style=\"text-align: right;\">\n",
       "      <th></th>\n",
       "      <th>ID</th>\n",
       "      <th>Code</th>\n",
       "    </tr>\n",
       "  </thead>\n",
       "  <tbody>\n",
       "    <tr>\n",
       "      <th>0</th>\n",
       "      <td>1301297949629207040</td>\n",
       "      <td>2</td>\n",
       "    </tr>\n",
       "    <tr>\n",
       "      <th>1</th>\n",
       "      <td>1301299183329201920</td>\n",
       "      <td>2</td>\n",
       "    </tr>\n",
       "    <tr>\n",
       "      <th>2</th>\n",
       "      <td>1301322209324158976</td>\n",
       "      <td>2</td>\n",
       "    </tr>\n",
       "    <tr>\n",
       "      <th>3</th>\n",
       "      <td>1301333830616396032</td>\n",
       "      <td>2</td>\n",
       "    </tr>\n",
       "    <tr>\n",
       "      <th>4</th>\n",
       "      <td>1301342721341349888</td>\n",
       "      <td>2</td>\n",
       "    </tr>\n",
       "  </tbody>\n",
       "</table>\n",
       "</div>"
      ],
      "text/plain": [
       "                    ID  Code\n",
       "0  1301297949629207040     2\n",
       "1  1301299183329201920     2\n",
       "2  1301322209324158976     2\n",
       "3  1301333830616396032     2\n",
       "4  1301342721341349888     2"
      ]
     },
     "execution_count": 13,
     "metadata": {},
     "output_type": "execute_result"
    }
   ],
   "source": [
    "vac_stance.head()"
   ]
  },
  {
   "cell_type": "code",
   "execution_count": 8,
   "id": "61305935",
   "metadata": {},
   "outputs": [],
   "source": [
    "vac_stance['ID'].to_csv('vac_stance_ids.csv', header=False, index = None)"
   ]
  },
  {
   "cell_type": "markdown",
   "id": "d6302f9c",
   "metadata": {},
   "source": [
    "## 4. Opinions regarding COVID-19 vaccine in the first month (Nov 9th 2020 - Dec 8th 2020)"
   ]
  },
  {
   "cell_type": "markdown",
   "id": "ab17c43b",
   "metadata": {},
   "source": [
    "**Paper**: https://ieeexplore.ieee.org/document/9354776\n",
    "\n",
    "**Github repo**: https://github.com/liviucotfas/covid-19-vaccination-stance-detection\n",
    "\n",
    "**Class Labels**: \"against\" (0), \"neutral\" (1) and \"in favor\" (2);"
   ]
  },
  {
   "cell_type": "code",
   "execution_count": 10,
   "id": "f32fa856",
   "metadata": {},
   "outputs": [
    {
     "name": "stdout",
     "output_type": "stream",
     "text": [
      "<class 'pandas.core.frame.DataFrame'>\n",
      "RangeIndex: 3249 entries, 0 to 3248\n",
      "Data columns (total 2 columns):\n",
      " #   Column    Non-Null Count  Dtype  \n",
      "---  ------    --------------  -----  \n",
      " 0   id        3249 non-null   int64  \n",
      " 1   category  3249 non-null   float64\n",
      "dtypes: float64(1), int64(1)\n",
      "memory usage: 50.9 KB\n"
     ]
    }
   ],
   "source": [
    "first_month_stance = pd.read_csv('./datasets/FirstMonthStance/vaccination_stance_first_month.csv')\n",
    "first_month_stance.info()"
   ]
  },
  {
   "cell_type": "code",
   "execution_count": 15,
   "id": "5734e5a2",
   "metadata": {},
   "outputs": [
    {
     "data": {
      "text/html": [
       "<div>\n",
       "<style scoped>\n",
       "    .dataframe tbody tr th:only-of-type {\n",
       "        vertical-align: middle;\n",
       "    }\n",
       "\n",
       "    .dataframe tbody tr th {\n",
       "        vertical-align: top;\n",
       "    }\n",
       "\n",
       "    .dataframe thead th {\n",
       "        text-align: right;\n",
       "    }\n",
       "</style>\n",
       "<table border=\"1\" class=\"dataframe\">\n",
       "  <thead>\n",
       "    <tr style=\"text-align: right;\">\n",
       "      <th></th>\n",
       "      <th>id</th>\n",
       "      <th>category</th>\n",
       "    </tr>\n",
       "  </thead>\n",
       "  <tbody>\n",
       "    <tr>\n",
       "      <th>0</th>\n",
       "      <td>1332370853242302464</td>\n",
       "      <td>1.0</td>\n",
       "    </tr>\n",
       "    <tr>\n",
       "      <th>1</th>\n",
       "      <td>1326178944077492227</td>\n",
       "      <td>0.0</td>\n",
       "    </tr>\n",
       "    <tr>\n",
       "      <th>2</th>\n",
       "      <td>1325774333504073728</td>\n",
       "      <td>2.0</td>\n",
       "    </tr>\n",
       "    <tr>\n",
       "      <th>3</th>\n",
       "      <td>1327983297549438976</td>\n",
       "      <td>1.0</td>\n",
       "    </tr>\n",
       "    <tr>\n",
       "      <th>4</th>\n",
       "      <td>1325699765930254336</td>\n",
       "      <td>1.0</td>\n",
       "    </tr>\n",
       "  </tbody>\n",
       "</table>\n",
       "</div>"
      ],
      "text/plain": [
       "                    id  category\n",
       "0  1332370853242302464       1.0\n",
       "1  1326178944077492227       0.0\n",
       "2  1325774333504073728       2.0\n",
       "3  1327983297549438976       1.0\n",
       "4  1325699765930254336       1.0"
      ]
     },
     "execution_count": 15,
     "metadata": {},
     "output_type": "execute_result"
    }
   ],
   "source": [
    "first_month_stance.head()"
   ]
  },
  {
   "cell_type": "code",
   "execution_count": 12,
   "id": "23f5b2e0",
   "metadata": {},
   "outputs": [],
   "source": [
    "first_month_stance['id'].to_csv('vac_opinions_first_month_ids.csv', header=False, index = None)"
   ]
  },
  {
   "cell_type": "markdown",
   "id": "f7251bbe",
   "metadata": {},
   "source": [
    "## NON-ENGLISH DATASETS"
   ]
  },
  {
   "cell_type": "markdown",
   "id": "2d06cd7b",
   "metadata": {},
   "source": [
    "## 1. VaccinEU"
   ]
  },
  {
   "cell_type": "markdown",
   "id": "eb05d1cd",
   "metadata": {},
   "source": [
    "**Paper**: https://ojs.aaai.org/index.php/ICWSM/article/view/19374\n",
    "\n",
    "**Github**: https://github.com/DataSciencePolimi/VaccinEU\n",
    "\n",
    "**Class Labels**: (1) - Pro Vaccine, (2) - Anti Vaccine (3) - Neutral (4) - Out of Context"
   ]
  },
  {
   "cell_type": "code",
   "execution_count": 3,
   "id": "db133934",
   "metadata": {},
   "outputs": [],
   "source": [
    "vaccin_eu_french = pd.read_csv('./datasets/VaccinEU/labeled_tweets_french.csv', sep = '\\t')\n",
    "vaccin_eu_german = pd.read_csv('./datasets/VaccinEU/labeled_tweets_german.csv', sep = '\\t')\n",
    "vaccin_eu_italian = pd.read_csv('./datasets/VaccinEU/labeled_tweets_italian.csv', sep = '\\t')"
   ]
  },
  {
   "cell_type": "code",
   "execution_count": 2,
   "id": "2801c9fc",
   "metadata": {},
   "outputs": [],
   "source": [
    "import pandas as pd"
   ]
  },
  {
   "cell_type": "code",
   "execution_count": 4,
   "id": "5accfd4e",
   "metadata": {},
   "outputs": [
    {
     "data": {
      "text/plain": [
       "1000"
      ]
     },
     "execution_count": 4,
     "metadata": {},
     "output_type": "execute_result"
    }
   ],
   "source": [
    "len(vaccin_eu_french)"
   ]
  },
  {
   "cell_type": "code",
   "execution_count": 5,
   "id": "ba04d2c1",
   "metadata": {},
   "outputs": [
    {
     "data": {
      "text/plain": [
       "1    419\n",
       "3    279\n",
       "4    167\n",
       "2    135\n",
       "Name: label, dtype: int64"
      ]
     },
     "execution_count": 5,
     "metadata": {},
     "output_type": "execute_result"
    }
   ],
   "source": [
    "vaccin_eu_french['label'].value_counts()"
   ]
  },
  {
   "cell_type": "code",
   "execution_count": 6,
   "id": "c9671214",
   "metadata": {},
   "outputs": [
    {
     "data": {
      "text/plain": [
       "1    0.547\n",
       "4    0.176\n",
       "3    0.169\n",
       "2    0.108\n",
       "Name: label, dtype: float64"
      ]
     },
     "execution_count": 6,
     "metadata": {},
     "output_type": "execute_result"
    }
   ],
   "source": [
    "vaccin_eu_german['label'].value_counts(normalize=True)"
   ]
  },
  {
   "cell_type": "code",
   "execution_count": 7,
   "id": "8f3cff9a",
   "metadata": {},
   "outputs": [
    {
     "data": {
      "text/plain": [
       "3    0.458\n",
       "1    0.314\n",
       "2    0.151\n",
       "4    0.077\n",
       "Name: label, dtype: float64"
      ]
     },
     "execution_count": 7,
     "metadata": {},
     "output_type": "execute_result"
    }
   ],
   "source": [
    "vaccin_eu_italian['label'].value_counts(normalize=True)"
   ]
  },
  {
   "cell_type": "code",
   "execution_count": 9,
   "id": "19108bcd",
   "metadata": {},
   "outputs": [
    {
     "name": "stdout",
     "output_type": "stream",
     "text": [
      "<class 'pandas.core.frame.DataFrame'>\n",
      "RangeIndex: 1000 entries, 0 to 999\n",
      "Data columns (total 2 columns):\n",
      " #   Column  Non-Null Count  Dtype \n",
      "---  ------  --------------  ----- \n",
      " 0   text    1000 non-null   object\n",
      " 1   label   1000 non-null   int64 \n",
      "dtypes: int64(1), object(1)\n",
      "memory usage: 15.8+ KB\n"
     ]
    }
   ],
   "source": [
    "vaccin_eu_french.info()"
   ]
  },
  {
   "cell_type": "code",
   "execution_count": 10,
   "id": "6f2d695c",
   "metadata": {},
   "outputs": [
    {
     "name": "stdout",
     "output_type": "stream",
     "text": [
      "<class 'pandas.core.frame.DataFrame'>\n",
      "RangeIndex: 1000 entries, 0 to 999\n",
      "Data columns (total 2 columns):\n",
      " #   Column  Non-Null Count  Dtype \n",
      "---  ------  --------------  ----- \n",
      " 0   text    1000 non-null   object\n",
      " 1   label   1000 non-null   int64 \n",
      "dtypes: int64(1), object(1)\n",
      "memory usage: 15.8+ KB\n"
     ]
    }
   ],
   "source": [
    "vaccin_eu_german.info()"
   ]
  },
  {
   "cell_type": "code",
   "execution_count": 11,
   "id": "42e4503a",
   "metadata": {},
   "outputs": [
    {
     "name": "stdout",
     "output_type": "stream",
     "text": [
      "<class 'pandas.core.frame.DataFrame'>\n",
      "RangeIndex: 1000 entries, 0 to 999\n",
      "Data columns (total 2 columns):\n",
      " #   Column  Non-Null Count  Dtype \n",
      "---  ------  --------------  ----- \n",
      " 0   text    1000 non-null   object\n",
      " 1   label   1000 non-null   int64 \n",
      "dtypes: int64(1), object(1)\n",
      "memory usage: 15.8+ KB\n"
     ]
    }
   ],
   "source": [
    "vaccin_eu_italian.info()"
   ]
  },
  {
   "cell_type": "markdown",
   "id": "2ee50b8f",
   "metadata": {},
   "source": [
    "## 2. VaxxStance "
   ]
  },
  {
   "cell_type": "markdown",
   "id": "f44b2bd7",
   "metadata": {},
   "source": [
    "**Competition**: https://vaxxstance.github.io/#datasets"
   ]
  },
  {
   "cell_type": "code",
   "execution_count": 12,
   "id": "5558503a",
   "metadata": {},
   "outputs": [],
   "source": [
    "vaxstance_es = pd.read_csv('./datasets/VaxxStance/es_train.csv')\n",
    "vaxstance_eu = pd.read_csv('./datasets/VaxxStance/eu_train.csv')"
   ]
  },
  {
   "cell_type": "code",
   "execution_count": 13,
   "id": "1534207c",
   "metadata": {},
   "outputs": [
    {
     "name": "stdout",
     "output_type": "stream",
     "text": [
      "<class 'pandas.core.frame.DataFrame'>\n",
      "RangeIndex: 2003 entries, 0 to 2002\n",
      "Data columns (total 4 columns):\n",
      " #   Column    Non-Null Count  Dtype \n",
      "---  ------    --------------  ----- \n",
      " 0   tweet_id  2003 non-null   int64 \n",
      " 1   user_id   2003 non-null   int64 \n",
      " 2   text      2003 non-null   object\n",
      " 3   label     2003 non-null   object\n",
      "dtypes: int64(2), object(2)\n",
      "memory usage: 62.7+ KB\n"
     ]
    }
   ],
   "source": [
    "vaxstance_es.info()"
   ]
  },
  {
   "cell_type": "code",
   "execution_count": 15,
   "id": "35cea1b3",
   "metadata": {},
   "outputs": [
    {
     "data": {
      "text/html": [
       "<div>\n",
       "<style scoped>\n",
       "    .dataframe tbody tr th:only-of-type {\n",
       "        vertical-align: middle;\n",
       "    }\n",
       "\n",
       "    .dataframe tbody tr th {\n",
       "        vertical-align: top;\n",
       "    }\n",
       "\n",
       "    .dataframe thead th {\n",
       "        text-align: right;\n",
       "    }\n",
       "</style>\n",
       "<table border=\"1\" class=\"dataframe\">\n",
       "  <thead>\n",
       "    <tr style=\"text-align: right;\">\n",
       "      <th></th>\n",
       "      <th>tweet_id</th>\n",
       "      <th>user_id</th>\n",
       "      <th>text</th>\n",
       "      <th>label</th>\n",
       "    </tr>\n",
       "  </thead>\n",
       "  <tbody>\n",
       "    <tr>\n",
       "      <th>0</th>\n",
       "      <td>1345991483917299714</td>\n",
       "      <td>2807061</td>\n",
       "      <td>cuando pueda y me toque https://t.co/BlcMyVMNmz</td>\n",
       "      <td>FAVOR</td>\n",
       "    </tr>\n",
       "    <tr>\n",
       "      <th>1</th>\n",
       "      <td>1126488644846596096</td>\n",
       "      <td>2929271</td>\n",
       "      <td>El Ministro de Educación de Nueva Zelanda ha e...</td>\n",
       "      <td>FAVOR</td>\n",
       "    </tr>\n",
       "    <tr>\n",
       "      <th>2</th>\n",
       "      <td>565269689094656000</td>\n",
       "      <td>6513132</td>\n",
       "      <td>@ollicarreira @jmtraductor pero ¿hay antivacun...</td>\n",
       "      <td>FAVOR</td>\n",
       "    </tr>\n",
       "    <tr>\n",
       "      <th>3</th>\n",
       "      <td>1342805866832130049</td>\n",
       "      <td>11798532</td>\n",
       "      <td>Deseando ponérmela en cuanto me toque. 👏🏻  #Va...</td>\n",
       "      <td>FAVOR</td>\n",
       "    </tr>\n",
       "    <tr>\n",
       "      <th>4</th>\n",
       "      <td>1130474546342051840</td>\n",
       "      <td>15022080</td>\n",
       "      <td>Nena vacunada. Para ser su primera vacunación ...</td>\n",
       "      <td>FAVOR</td>\n",
       "    </tr>\n",
       "  </tbody>\n",
       "</table>\n",
       "</div>"
      ],
      "text/plain": [
       "              tweet_id   user_id  \\\n",
       "0  1345991483917299714   2807061   \n",
       "1  1126488644846596096   2929271   \n",
       "2   565269689094656000   6513132   \n",
       "3  1342805866832130049  11798532   \n",
       "4  1130474546342051840  15022080   \n",
       "\n",
       "                                                text  label  \n",
       "0    cuando pueda y me toque https://t.co/BlcMyVMNmz  FAVOR  \n",
       "1  El Ministro de Educación de Nueva Zelanda ha e...  FAVOR  \n",
       "2  @ollicarreira @jmtraductor pero ¿hay antivacun...  FAVOR  \n",
       "3  Deseando ponérmela en cuanto me toque. 👏🏻  #Va...  FAVOR  \n",
       "4  Nena vacunada. Para ser su primera vacunación ...  FAVOR  "
      ]
     },
     "execution_count": 15,
     "metadata": {},
     "output_type": "execute_result"
    }
   ],
   "source": [
    "vaxstance_es.head()"
   ]
  },
  {
   "cell_type": "code",
   "execution_count": 14,
   "id": "b07abc89",
   "metadata": {},
   "outputs": [
    {
     "name": "stdout",
     "output_type": "stream",
     "text": [
      "<class 'pandas.core.frame.DataFrame'>\n",
      "RangeIndex: 1070 entries, 0 to 1069\n",
      "Data columns (total 4 columns):\n",
      " #   Column    Non-Null Count  Dtype \n",
      "---  ------    --------------  ----- \n",
      " 0   tweet_id  1070 non-null   int64 \n",
      " 1   user_id   1070 non-null   int64 \n",
      " 2   text      1070 non-null   object\n",
      " 3   label     1070 non-null   object\n",
      "dtypes: int64(2), object(2)\n",
      "memory usage: 33.6+ KB\n"
     ]
    }
   ],
   "source": [
    "vaxstance_eu.info()"
   ]
  },
  {
   "cell_type": "markdown",
   "id": "4a3c424d",
   "metadata": {},
   "source": [
    "## 3. Multilingual Vaccine Attitude dataset"
   ]
  },
  {
   "cell_type": "markdown",
   "id": "2e00bf89",
   "metadata": {},
   "source": [
    "**Paper**: https://arxiv.org/pdf/2206.14619.pdf\n",
    "\n",
    "**Class Labels**: (PO) - Positive, (NG) - Negative, (NE) - Neutral, (PD) - Positive but dissatisfaction, (OT) - Off Topic"
   ]
  },
  {
   "cell_type": "code",
   "execution_count": 13,
   "id": "034e7efc",
   "metadata": {},
   "outputs": [],
   "source": [
    "multilingual_vad = pd.read_csv('./datasets/Multilingual Vaccine Attitude dataset/annotated_tweets.txt', header=None, sep=' ')"
   ]
  },
  {
   "cell_type": "code",
   "execution_count": 15,
   "id": "29e3bcfd",
   "metadata": {},
   "outputs": [
    {
     "data": {
      "text/html": [
       "<div>\n",
       "<style scoped>\n",
       "    .dataframe tbody tr th:only-of-type {\n",
       "        vertical-align: middle;\n",
       "    }\n",
       "\n",
       "    .dataframe tbody tr th {\n",
       "        vertical-align: top;\n",
       "    }\n",
       "\n",
       "    .dataframe thead th {\n",
       "        text-align: right;\n",
       "    }\n",
       "</style>\n",
       "<table border=\"1\" class=\"dataframe\">\n",
       "  <thead>\n",
       "    <tr style=\"text-align: right;\">\n",
       "      <th></th>\n",
       "      <th>0</th>\n",
       "      <th>1</th>\n",
       "    </tr>\n",
       "  </thead>\n",
       "  <tbody>\n",
       "    <tr>\n",
       "      <th>0</th>\n",
       "      <td>1362771909612560386</td>\n",
       "      <td>PD</td>\n",
       "    </tr>\n",
       "    <tr>\n",
       "      <th>1</th>\n",
       "      <td>1343494725370834944</td>\n",
       "      <td>PD</td>\n",
       "    </tr>\n",
       "    <tr>\n",
       "      <th>2</th>\n",
       "      <td>1344570452589613056</td>\n",
       "      <td>PO</td>\n",
       "    </tr>\n",
       "    <tr>\n",
       "      <th>3</th>\n",
       "      <td>1327939499293335552</td>\n",
       "      <td>PO</td>\n",
       "    </tr>\n",
       "    <tr>\n",
       "      <th>4</th>\n",
       "      <td>1345297066713608193</td>\n",
       "      <td>PD</td>\n",
       "    </tr>\n",
       "  </tbody>\n",
       "</table>\n",
       "</div>"
      ],
      "text/plain": [
       "                     0   1\n",
       "0  1362771909612560386  PD\n",
       "1  1343494725370834944  PD\n",
       "2  1344570452589613056  PO\n",
       "3  1327939499293335552  PO\n",
       "4  1345297066713608193  PD"
      ]
     },
     "execution_count": 15,
     "metadata": {},
     "output_type": "execute_result"
    }
   ],
   "source": [
    "multilingual_vad.head()"
   ]
  },
  {
   "cell_type": "code",
   "execution_count": 16,
   "id": "bb009326",
   "metadata": {},
   "outputs": [
    {
     "name": "stdout",
     "output_type": "stream",
     "text": [
      "<class 'pandas.core.frame.DataFrame'>\n",
      "RangeIndex: 17934 entries, 0 to 17933\n",
      "Data columns (total 2 columns):\n",
      " #   Column  Non-Null Count  Dtype \n",
      "---  ------  --------------  ----- \n",
      " 0   0       17934 non-null  int64 \n",
      " 1   1       17934 non-null  object\n",
      "dtypes: int64(1), object(1)\n",
      "memory usage: 280.3+ KB\n"
     ]
    }
   ],
   "source": [
    "multilingual_vad.info()"
   ]
  },
  {
   "cell_type": "code",
   "execution_count": 17,
   "id": "495a93e0",
   "metadata": {},
   "outputs": [],
   "source": [
    "multilingual_vad[0].to_csv('multilingual_vad_ids.csv', header=False, index = None)"
   ]
  },
  {
   "cell_type": "code",
   "execution_count": null,
   "id": "73b32cb2",
   "metadata": {},
   "outputs": [],
   "source": []
  }
 ],
 "metadata": {
  "kernelspec": {
   "display_name": "Python 3 (ipykernel)",
   "language": "python",
   "name": "python3"
  },
  "language_info": {
   "codemirror_mode": {
    "name": "ipython",
    "version": 3
   },
   "file_extension": ".py",
   "mimetype": "text/x-python",
   "name": "python",
   "nbconvert_exporter": "python",
   "pygments_lexer": "ipython3",
   "version": "3.9.16"
  }
 },
 "nbformat": 4,
 "nbformat_minor": 5
}
